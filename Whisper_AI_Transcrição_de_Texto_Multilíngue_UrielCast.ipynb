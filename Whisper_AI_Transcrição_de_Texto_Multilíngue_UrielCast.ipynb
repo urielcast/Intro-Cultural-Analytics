{
  "cells": [
    {
      "cell_type": "markdown",
      "metadata": {
        "id": "view-in-github",
        "colab_type": "text"
      },
      "source": [
        "<a href=\"https://colab.research.google.com/github/urielcast/Intro-Cultural-Analytics/blob/master/Whisper_AI_Transcri%C3%A7%C3%A3o_de_Texto_Multil%C3%ADngue_UrielCast.ipynb\" target=\"_parent\"><img src=\"https://colab.research.google.com/assets/colab-badge.svg\" alt=\"Open In Colab\"/></a>"
      ]
    },
    {
      "cell_type": "markdown",
      "id": "88dd6bc3",
      "metadata": {
        "id": "88dd6bc3"
      },
      "source": [
        "#🗣️ **Whisper** - Transcição de áudios para texto (@urielcast)\n",
        "\n",
        "*Notebook criado por Uriel castellanos: [@urielcast](https://linktr.ee/urielcast).\n",
        "\n",
        "*Remixado de [Whisper-Blog](https://openai.com/blog/whisper/), [Whisper-GitHub](https://github.com/openai/whisper), [DotCSV](https://www.youtube.com/channel/UCy5znSnfMsDwaLlROnZ7Qbg)/[1](https://colab.research.google.com/drive/1CvvYPAFemIZdSOt9fhN541esSlZR7Ic6?usp=sharing#scrollTo=opNkn_Lgpat4) e [Singularidade](https://colab.research.google.com/github/viniciusdutra314/CanalSingularidade/blob/main/WhisperAi/Whisper%20Ai%20Singularidade.ipynb).\n",
        "\n",
        "*Citar como [ABNT]:\n",
        "CASTELLANOS, Uriel. Whisper AI: Transcrição de Texto Multilíngue. Versão 1 [S. l.], 13 fev. 2023. Disponível em: https://colab.research.google.com/drive/1qBD3-yRId0p2I3uLn26xJ28aRyGOt3OY?usp=sharing. Acesso em: 13 fev. 2023."
      ]
    },
    {
      "cell_type": "markdown",
      "id": "f3c815fa",
      "metadata": {
        "id": "f3c815fa"
      },
      "source": [
        "📌 Antes de usar:\n",
        "\n",
        "🛑 *Ativar* **Aceleração por Hardware** com GPU `\"Ambiente de Execução\" > \"Alterar o tipo de ambiente de execução\"`\n",
        "\n",
        "🛑 Se tiver dúvidas, ver: [Link da Microsoft](https://learn.microsoft.com/pt-br/troubleshoot/developer/browsers/core-features/gpu-hardware-acceleration)\n",
        "\n",
        "📌 Para usar:\n",
        "1. Execute a instalação dos módulos (aguardar até ficar um check-list verde);\n",
        "2. Carregar o arquivo de áudio nos arquivos de google.colab (Verificar que o nome esteja sem caracteres especiais ou conter marcas);\n",
        "3. Nos três pontos do áudio, escolher a opção \"copiar caminho\", colar dentro das aspas do código: \"audio.mp3\" (manter as aspas);\n",
        "4. Execute \"criar legenda\".\n",
        "5. Se for transcribir vários arquivos de áudio, utilize o script \"Criar várias legendas\", para isso deverá ter carregado os arquivos de áudio, logo executar o segundo script que vai gerar um arquivo novo chamado \"copiar.txt\". Deveremos abrir o arquivo \"copiar.txt\", copiar todo o conteúdo nele e colar na célula que estará disponível embaixo. Executar essa nova célula que devera ter por nome \"Rodar o código gerado na etapa anterior\". Aguardar o script gerar os arquivos de texto.\n",
        "6. Também podemos gerar a tradução do nosso áudio para o inglês, o script \"Traducir** áudio original ao inglês. (X ► English)\" segue os mesmos parâmetros iniciais, só devemos colocar o caminho do áudio dentro das aspas \"/content/audio.mp3\".\n",
        "\n",
        "📌OBS1: O código criará uma nova pasta chamada legendas, nele vão estar disponíveis os diferentes arquivos da transcrição em texto, alguns deles vão ter marcas de tempo, outros não. Para utilizar numa pesquisa, com software de análises de dados, recomendo aquele que contém a extensão \".txt\", mas o código gera diferentes extensões como \".json\", \".srt\", \".tsv\", \".txt\" e \".vtt\".\n",
        "\n",
        "📌OBS2: O código pode demorar vários minutos, vai depender do tempo do áudio. O que também pode gerar erro na saída do texto, pois a base de dados da whisper contém limites do tempo de uso (aproximadamente 1h).\n",
        "\n",
        "📌OBS3: A qualidade da transcrição pode variar segundo a opção utilizada: **tiny, base, small, medium, large**. Lembrando que a melhor opção é \"large\", mas esta opção vai demandar mais tempo para o processamento do áudio em texto. O parâmetro utilizado neste código foi a opção \"medium\", pois é uma opção que não vai demandar muita memória do seu computador (pc/laptop), recomendo trocar para \"large\" se seu computador tiver uma melhor placa de vídeo.\n",
        "\n",
        "📌OBS4: 💾 **Lembre exportar todos os arquivos gerados e fazer/manter um backup, pois o sistema de google.colab redefine os parâmetros quando você reiniciar a página ou fechar ela**.\n",
        "\n",
        "OBS5: Se tiver vídeos, recomendo transformar eles em áudio com ajuda de udacity (https://www.audacityteam.org/).\n",
        "\n",
        "\n"
      ]
    },
    {
      "cell_type": "code",
      "execution_count": null,
      "id": "d767eaae",
      "metadata": {
        "cellView": "form",
        "id": "d767eaae"
      },
      "outputs": [],
      "source": [
        "#@title Execute para instalar os módulos necessários.\n",
        "\"\"\"\n",
        "Para escrever este código, foi necessaria a inspiração/código de vários lugares/sites.\n",
        "Remixado de\n",
        "[Whisper-Blog](https://openai.com/blog/whisper/),\n",
        "[Whisper-GitHub](https://github.com/openai/whisper),\n",
        "[DotCSV](https://www.youtube.com/channel/UCy5znSnfMsDwaLlROnZ7Qbg)/\n",
        "[1](https://colab.research.google.com/drive/1CvvYPAFemIZdSOt9fhN541esSlZR7Ic6?usp=sharing#scrollTo=opNkn_Lgpat4) e\n",
        "[Singularidade](https://colab.research.google.com/github/viniciusdutra314/CanalSingularidade/blob/main/WhisperAi/Whisper%20Ai%20Singularidade.ipynb).\n",
        "\"\"\"\n",
        "\n",
        "!pip install git+https://github.com/openai/whisper.git\n",
        "!pip install jiwer\n",
        "!pip install pytube\n",
        "!pip install unidecode\n",
        "!pip install ffmpeg\n",
        "\n",
        "import os\n",
        "from IPython.display import HTML, Audio\n",
        "from google.colab.output import eval_js\n",
        "from base64 import b64decode\n",
        "import numpy as np\n",
        "from scipy.io.wavfile import read as wav_read\n",
        "import io\n",
        "import ffmpeg\n",
        "\n",
        "AUDIO_HTML = \"\"\"\n",
        "<script>\n",
        "var my_div = document.createElement(\"DIV\");\n",
        "var my_p = document.createElement(\"P\");\n",
        "var my_btn = document.createElement(\"BUTTON\");\n",
        "var t = document.createTextNode(\"Press to start recording\");\n",
        "\n",
        "my_btn.appendChild(t);\n",
        "//my_p.appendChild(my_btn);\n",
        "my_div.appendChild(my_btn);\n",
        "document.body.appendChild(my_div);\n",
        "\n",
        "var base64data = 0;\n",
        "var reader;\n",
        "var recorder, gumStream;\n",
        "var recordButton = my_btn;\n",
        "\n",
        "var handleSuccess = function(stream) {\n",
        "  gumStream = stream;\n",
        "  var options = {\n",
        "    //bitsPerSecond: 8000, //chrome seems to ignore, always 48k\n",
        "    mimeType : 'audio/webm;codecs=opus'\n",
        "    //mimeType : 'audio/webm;codecs=pcm'\n",
        "  };\n",
        "  //recorder = new MediaRecorder(stream, options);\n",
        "  recorder = new MediaRecorder(stream);\n",
        "  recorder.ondataavailable = function(e) {\n",
        "    var url = URL.createObjectURL(e.data);\n",
        "    var preview = document.createElement('audio');\n",
        "    preview.controls = true;\n",
        "    preview.src = url;\n",
        "    document.body.appendChild(preview);\n",
        "\n",
        "    reader = new FileReader();\n",
        "    reader.readAsDataURL(e.data);\n",
        "    reader.onloadend = function() {\n",
        "      base64data = reader.result;\n",
        "      //console.log(\"Inside FileReader:\" + base64data);\n",
        "    }\n",
        "  };\n",
        "  recorder.start();\n",
        "  };\n",
        "\n",
        "recordButton.innerText = \"Recording... press to stop\";\n",
        "\n",
        "navigator.mediaDevices.getUserMedia({audio: true}).then(handleSuccess);\n",
        "\n",
        "\n",
        "function toggleRecording() {\n",
        "  if (recorder && recorder.state == \"recording\") {\n",
        "      recorder.stop();\n",
        "      gumStream.getAudioTracks()[0].stop();\n",
        "      recordButton.innerText = \"Saving the recording... pls wait!\"\n",
        "  }\n",
        "}\n",
        "\n",
        "// https://stackoverflow.com/a/951057\n",
        "function sleep(ms) {\n",
        "  return new Promise(resolve => setTimeout(resolve, ms));\n",
        "}\n",
        "\n",
        "var data = new Promise(resolve=>{\n",
        "//recordButton.addEventListener(\"click\", toggleRecording);\n",
        "recordButton.onclick = ()=>{\n",
        "toggleRecording()\n",
        "\n",
        "sleep(2000).then(() => {\n",
        "  // wait 2000ms for the data to be available...\n",
        "  // ideally this should use something like await...\n",
        "  //console.log(\"Inside data:\" + base64data)\n",
        "  resolve(base64data.toString())\n",
        "\n",
        "});\n",
        "\n",
        "}\n",
        "});\n",
        "\n",
        "</script>\n",
        "\"\"\"\n",
        "\n",
        "def get_audio():\n",
        "  display(HTML(AUDIO_HTML))\n",
        "  data = eval_js(\"data\")\n",
        "  binary = b64decode(data.split(',')[1])\n",
        "\n",
        "  process = (ffmpeg\n",
        "    .input('pipe:0')\n",
        "    .output('pipe:1', format='wav')\n",
        "    .run_async(pipe_stdin=True, pipe_stdout=True, pipe_stderr=True, quiet=True, overwrite_output=True)\n",
        "  )\n",
        "  output, err = process.communicate(input=binary)\n",
        "\n",
        "  riff_chunk_size = len(output) - 8\n",
        "  # Break up the chunk size into four bytes, held in b.\n",
        "  q = riff_chunk_size\n",
        "  b = []\n",
        "  for i in range(4):\n",
        "      q, r = divmod(q, 256)\n",
        "      b.append(r)\n",
        "\n",
        "  # Replace bytes 4:8 in proc.stdout with the actual size of the RIFF chunk.\n",
        "  riff = output[:4] + bytes(b) + output[8:]\n",
        "\n",
        "  sr, audio = wav_read(io.BytesIO(riff))\n",
        "\n",
        "  return audio, sr"
      ]
    },
    {
      "cell_type": "markdown",
      "id": "10db4efa",
      "metadata": {
        "id": "10db4efa"
      },
      "source": [
        "## 👉 Criar uma legenda (no mesmo idioma, X ► X)"
      ]
    },
    {
      "cell_type": "code",
      "execution_count": null,
      "id": "18e2b0b8",
      "metadata": {
        "id": "18e2b0b8"
      },
      "outputs": [],
      "source": [
        "!whisper \"audio.mp3\" --task transcribe --model large --verbose False --output_dir legendas"
      ]
    },
    {
      "cell_type": "markdown",
      "id": "e2931ab8",
      "metadata": {
        "id": "e2931ab8"
      },
      "source": [
        "## 👉 Criar várias legendas (no mesmo idioma, X ► X)\n"
      ]
    },
    {
      "cell_type": "code",
      "execution_count": null,
      "id": "09dfd347",
      "metadata": {
        "id": "09dfd347"
      },
      "outputs": [],
      "source": [
        "audios=[j for j in os.listdir() if j[-4:] in [\".mp3\",\".ogg\",\".wav\"]]\n",
        "quality=input(\"Qual modo de qualidade você deseja? (tiny,base,small,medium,large) \")\n",
        "with open(\"copiar.txt\",\"w\") as text:\n",
        "    for k in audios: text.write(f\"!whisper '{k}' --task transcribe --model {quality} --verbose False --output_dir legendas\\n\")"
      ]
    },
    {
      "cell_type": "markdown",
      "id": "MFPbYl_nZCWR",
      "metadata": {
        "id": "MFPbYl_nZCWR"
      },
      "source": [
        "\n",
        "## 👉  **Traducir** áudio original ao inglês. (X ► English)\n",
        "\n",
        "\n"
      ]
    },
    {
      "cell_type": "code",
      "execution_count": null,
      "id": "ysFatIVUZrkl",
      "metadata": {
        "id": "ysFatIVUZrkl"
      },
      "outputs": [],
      "source": [
        "!whisper \"/content/audio.mp3\" --task translate --model medium"
      ]
    },
    {
      "cell_type": "markdown",
      "id": "wAoXH-Dmq3uW",
      "metadata": {
        "id": "wAoXH-Dmq3uW"
      },
      "source": [
        "## 🎙️ **Grabar y transcribir** [Elige la tarea]"
      ]
    },
    {
      "cell_type": "code",
      "execution_count": null,
      "id": "opNkn_Lgpat4",
      "metadata": {
        "id": "opNkn_Lgpat4",
        "cellView": "form"
      },
      "outputs": [],
      "source": [
        "Tarea = \"Transcript to Language\" #@param [\"Transcript to Language\", \"Translate to English\"]\n",
        "import numpy as np\n",
        "import whisper\n",
        "from scipy.io.wavfile import write\n",
        "from IPython.display import clear_output\n",
        "\n",
        "task = \"translate\" if Tarea == \"Translate to English\" else \"transcribe\"\n",
        "\n",
        "audio, sr = get_audio()\n",
        "write('record.wav', sr, audio)\n",
        "\n",
        "!whisper \"record.wav\" --task {task} --model medium --verbose False\n",
        "\n",
        "clear_output()\n",
        "if task == \"translate\":\n",
        "  print(\"-- TRADUCCIÓN A INGLÉS --\\n\")\n",
        "else:\n",
        "  print(\"-- TRANSCRIPCIÓN A ESPAÑOL --\\n\")\n",
        "\n",
        "print(open('record.wav.txt').read())"
      ]
    },
    {
      "cell_type": "markdown",
      "source": [
        "## 🎙️ **Youtube - Transcribir** [Precisa do link]"
      ],
      "metadata": {
        "id": "jSt074OnZueN"
      },
      "id": "jSt074OnZueN"
    },
    {
      "cell_type": "code",
      "source": [
        "# @title Se for um link do YouTube, abra esta célula e atribua o link a variável \"url\" que apareçá no ínicio do código. Depois disto, basta executar.\n",
        "\n",
        "url='https://youtu.be/GJMiYHfEqnQ?si=X8ah96oX19GS87hT'\n",
        "\n",
        "###############################################################################################\n",
        "## Não editar nada abaixo, apenas a \"url\" acima.\n",
        "try:\n",
        "    yt = YouTube(url)\n",
        "    stream = yt.streams.filter(only_audio=True, file_extension='mp4').order_by('abr').asc().first()\n",
        "\n",
        "    if stream:\n",
        "        filesize_mb = int(stream.filesize / (1024 * 1024)) # Convertendo bytes para MB\n",
        "        if filesize_mb <= 100:\n",
        "            print(f'O vídeo {url} tem {filesize_mb} MB.')\n",
        "\n",
        "            # Construindo o tempo\n",
        "            seconds = yt.length\n",
        "            hours, remainder = divmod(seconds, 3600)\n",
        "            minutes, seconds = divmod(remainder, 60)\n",
        "            time = f\"{hours:02}:{minutes:02}:{seconds:02}\"\n",
        "\n",
        "            print(f'Iniciando download do vídeo {url} com duração de {time}')\n",
        "\n",
        "            destination_folder = '/content/'\n",
        "            audio_file = stream.download(output_path=destination_folder)\n",
        "            mp3_file = os.path.join(destination_folder, 'video_youtube.mp3')\n",
        "            os.rename(audio_file, mp3_file) # Renomeando o arquivo para 'video_youtube.mp3'\n",
        "\n",
        "            print(f'Download finalizado e salvo em {mp3_file}')\n",
        "        else:\n",
        "            print(f'O vídeo {url} é muito grande para download.')\n",
        "    else:\n",
        "        print(f'Não foi possível encontrar uma versão de áudio para o vídeo {url}. Tente baixar o aúdio/video por outro veículo e use a opção de transcrição para MP3 ou MP4.')\n",
        "except Exception as e:\n",
        "    print(f\"Erro '{e}' ao fazer download do vídeo {url}\")\n",
        "\n",
        "\n",
        "arquivo_audio = mp3_file\n",
        "arquivo_transcricao = '/content/transcricao_audio_youtube.txt'"
      ],
      "metadata": {
        "id": "QRoKTzmtZszt",
        "cellView": "form"
      },
      "id": "QRoKTzmtZszt",
      "execution_count": null,
      "outputs": []
    }
  ],
  "metadata": {
    "accelerator": "GPU",
    "colab": {
      "collapsed_sections": [
        "wAoXH-Dmq3uW"
      ],
      "provenance": [],
      "include_colab_link": true
    },
    "gpuClass": "standard",
    "kernelspec": {
      "display_name": "Python 3",
      "language": "python",
      "name": "python3"
    },
    "language_info": {
      "codemirror_mode": {
        "name": "ipython",
        "version": 3
      },
      "file_extension": ".py",
      "mimetype": "text/x-python",
      "name": "python",
      "nbconvert_exporter": "python",
      "pygments_lexer": "ipython3",
      "version": "3.10.6 (tags/v3.10.6:9c7b4bd, Aug  1 2022, 21:53:49) [MSC v.1932 64 bit (AMD64)]"
    },
    "vscode": {
      "interpreter": {
        "hash": "4b3544f3f607a448bb912fcc71615df9318cdf5494c0fb1b22c510f6f2143ab8"
      }
    }
  },
  "nbformat": 4,
  "nbformat_minor": 5
}